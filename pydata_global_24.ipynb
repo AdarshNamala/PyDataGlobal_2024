{
 "cells": [
  {
   "cell_type": "markdown",
   "metadata": {},
   "source": [
    "# Python + DuckDB\n",
    "* PyData Global 2024 demo\n",
    "* DuckDb blog (aweseome resources): https://duckdb.org/news/"
   ]
  },
  {
   "cell_type": "code",
   "execution_count": null,
   "metadata": {},
   "outputs": [],
   "source": [
    "import numpy as np\n",
    "import pandas as pd\n",
    "import duckdb \n",
    "import os\n",
    "from pathlib import Path\n",
    "import seaborn as sns\n",
    "import matplotlib.pyplot as plt\n",
    "import psutil\n",
    "import textwrap\n",
    "from datetime import datetime\n",
    "import sys\n",
    "\n",
    "import boto3\n",
    "import json\n",
    "from functools import partial\n",
    "import re\n",
    "import s3fs\n",
    "from time import sleep\n",
    "\n",
    "import coiled"
   ]
  },
  {
   "cell_type": "code",
   "execution_count": 2,
   "metadata": {},
   "outputs": [
    {
     "name": "stdout",
     "output_type": "stream",
     "text": [
      "version\n",
      "duckdb:  1.1.3\n",
      "pandas:  2.2.3\n",
      "python:  3.12.7 | packaged by conda-forge | (main, Oct  4 2024, 15:57:01) [Clang 17.0.6 ]\n"
     ]
    }
   ],
   "source": [
    "print(\"version\")\n",
    "print(\"duckdb: \",duckdb.__version__)\n",
    "print(\"pandas: \",pd.__version__)\n",
    "print(\"python: \",sys.version)"
   ]
  },
  {
   "cell_type": "code",
   "execution_count": null,
   "metadata": {},
   "outputs": [],
   "source": [
    "def memory_used():\n",
    "    \"\"\" Get current memory used \"\"\"\n",
    "    _mbs = psutil.Process().memory_full_info().uss/(1024**2)\n",
    "    print(f'Memory used: {_mbs:,.0f} MBs') \n",
    "\n",
    "    \n",
    "def get_months(start: str,end :str) -> list:\n",
    "    \"\"\" Function to get the months between the start and end date \"\"\"\n",
    "    return pd.date_range(start,end,freq='MS').strftime('%Y-%m')"
   ]
  },
  {
   "cell_type": "code",
   "execution_count": 4,
   "metadata": {},
   "outputs": [
    {
     "name": "stdout",
     "output_type": "stream",
     "text": [
      "Memory used: 117 MBs\n"
     ]
    }
   ],
   "source": [
    "memory_used()"
   ]
  },
  {
   "cell_type": "markdown",
   "metadata": {},
   "source": [
    "## connection object\n",
    "* There are various ways to create the connection object\n",
    "    * in-memory only (RAM only). Does not support out of core operations \n",
    "    * in-memory with temporary storage:  allows out of core operation. When the connection is closed the temp storage is not persisted\n",
    "    * persisted database:  in-memory + out of core operation + persistent db that can be re-used. \n",
    "    "
   ]
  },
  {
   "cell_type": "code",
   "execution_count": 5,
   "metadata": {},
   "outputs": [],
   "source": [
    "_persistent_db = \"~/Desktop/PyDataGlobal2024/storage.ddb\"\n",
    "con = duckdb.connect(_persistent_db) \n",
    "\n",
    "# other options to create connection: \n",
    "# duckdb.connection(\":memory:\")"
   ]
  },
  {
   "cell_type": "code",
   "execution_count": 6,
   "metadata": {},
   "outputs": [],
   "source": [
    "def show_db_size():\n",
    "    \"\"\" \n",
    "    \"\"\"\n",
    "    display(con.sql(\"call pragma_database_size()\").df())\n"
   ]
  },
  {
   "cell_type": "markdown",
   "metadata": {},
   "source": [
    "## Load the Data\n",
    "* We will use the popular NYC Taxi Data"
   ]
  },
  {
   "cell_type": "code",
   "execution_count": 7,
   "metadata": {},
   "outputs": [
    {
     "data": {
      "text/plain": [
       "['https://d37ci6vzurychx.cloudfront.net/trip-data/yellow_tripdata_2024-01.parquet',\n",
       " 'https://d37ci6vzurychx.cloudfront.net/trip-data/yellow_tripdata_2024-02.parquet',\n",
       " 'https://d37ci6vzurychx.cloudfront.net/trip-data/yellow_tripdata_2024-03.parquet',\n",
       " 'https://d37ci6vzurychx.cloudfront.net/trip-data/yellow_tripdata_2024-04.parquet',\n",
       " 'https://d37ci6vzurychx.cloudfront.net/trip-data/yellow_tripdata_2024-05.parquet',\n",
       " 'https://d37ci6vzurychx.cloudfront.net/trip-data/yellow_tripdata_2024-06.parquet',\n",
       " 'https://d37ci6vzurychx.cloudfront.net/trip-data/yellow_tripdata_2024-07.parquet',\n",
       " 'https://d37ci6vzurychx.cloudfront.net/trip-data/yellow_tripdata_2024-08.parquet',\n",
       " 'https://d37ci6vzurychx.cloudfront.net/trip-data/yellow_tripdata_2024-09.parquet']"
      ]
     },
     "execution_count": 7,
     "metadata": {},
     "output_type": "execute_result"
    }
   ],
   "source": [
    "def get_nytaxi_data_path(month:str|list) -> str:\n",
    "    \"\"\" \n",
    "    Funciton to get the month path for NYC tax\n",
    "    https://www.nyc.gov/site/tlc/about/tlc-trip-record-data.page\n",
    "    params\n",
    "        month(str): yyyy-mm format\n",
    "    \"\"\"\n",
    "    # You can get the base path by copying the link address from the website    \n",
    "    _base_path = \"https://d37ci6vzurychx.cloudfront.net/trip-data/yellow_tripdata\"\n",
    "\n",
    "    return f\"{_base_path}_{month}.parquet\"\n",
    "\n",
    "# get 2024 months. Get Jan - Sep 2024 files\n",
    "months = pd.date_range(\"2024-01\",periods=9,freq=\"MS\").strftime(\"%Y-%m\")\n",
    "nytaxi_files = [get_nytaxi_data_path(month) for month in months]\n",
    "nytaxi_files\n"
   ]
  },
  {
   "cell_type": "code",
   "execution_count": 8,
   "metadata": {},
   "outputs": [],
   "source": [
    "# define a fucntion that you can reuse\n",
    "def ddb_read_parquet(files:str|list[str],\n",
    "                     columns:list[str]=[]) -> str:\n",
    "    \"\"\" \n",
    "    Function to read parquet file into duckdb\n",
    "    params:\n",
    "        * files(str | list): file path of list of file_path\n",
    "        * cus\n",
    "    \"\"\"\n",
    "    _cols = ',\\n'.join(columns) or \"*\"\n",
    "    _files = files if isinstance(files,list) else [files]\n",
    "    # placeholder to add more params\n",
    "    _read_params = \"filename=true\"\n",
    "    \n",
    "    _qry = f\"\"\" \n",
    "    select \n",
    "        {_cols}\n",
    "    from read_parquet({_files},{_read_params})\n",
    "    \"\"\"\n",
    "    \n",
    "    return _qry"
   ]
  },
  {
   "cell_type": "code",
   "execution_count": 9,
   "metadata": {},
   "outputs": [
    {
     "name": "stdout",
     "output_type": "stream",
     "text": [
      " \n",
      "    select \n",
      "        *\n",
      "    from read_parquet(['https://d37ci6vzurychx.cloudfront.net/trip-data/yellow_tripdata_2024-01.parquet', 'https://d37ci6vzurychx.cloudfront.net/trip-data/yellow_tripdata_2024-02.parquet', 'https://d37ci6vzurychx.cloudfront.net/trip-data/yellow_tripdata_2024-03.parquet'],filename=true)\n",
      "    \n"
     ]
    }
   ],
   "source": [
    "_read_qry = ddb_read_parquet(nytaxi_files[:3])\n",
    "print(_read_qry)"
   ]
  },
  {
   "cell_type": "markdown",
   "metadata": {},
   "source": [
    "### Profiling Statements\n",
    "* Describe: gets the schema of the output query\n",
    "* Explain: Query plan without executing it\n",
    "* Explain Analyze: Query plan with execution time.\n",
    "\n",
    "* reference: https://duckdb.org/docs/sql/statements/profiling.html"
   ]
  },
  {
   "cell_type": "code",
   "execution_count": 10,
   "metadata": {},
   "outputs": [
    {
     "name": "stdout",
     "output_type": "stream",
     "text": [
      "Check the schema using the DESCRIBE statement\n"
     ]
    },
    {
     "data": {
      "text/plain": [
       "┌───────────────────────┬─────────────┬─────────┬─────────┬─────────┬─────────┐\n",
       "│      column_name      │ column_type │  null   │   key   │ default │  extra  │\n",
       "│        varchar        │   varchar   │ varchar │ varchar │ varchar │ varchar │\n",
       "├───────────────────────┼─────────────┼─────────┼─────────┼─────────┼─────────┤\n",
       "│ VendorID              │ INTEGER     │ YES     │ NULL    │ NULL    │ NULL    │\n",
       "│ tpep_pickup_datetime  │ TIMESTAMP   │ YES     │ NULL    │ NULL    │ NULL    │\n",
       "│ tpep_dropoff_datetime │ TIMESTAMP   │ YES     │ NULL    │ NULL    │ NULL    │\n",
       "│ passenger_count       │ BIGINT      │ YES     │ NULL    │ NULL    │ NULL    │\n",
       "│ trip_distance         │ DOUBLE      │ YES     │ NULL    │ NULL    │ NULL    │\n",
       "│ RatecodeID            │ BIGINT      │ YES     │ NULL    │ NULL    │ NULL    │\n",
       "│ store_and_fwd_flag    │ VARCHAR     │ YES     │ NULL    │ NULL    │ NULL    │\n",
       "│ PULocationID          │ INTEGER     │ YES     │ NULL    │ NULL    │ NULL    │\n",
       "│ DOLocationID          │ INTEGER     │ YES     │ NULL    │ NULL    │ NULL    │\n",
       "│ payment_type          │ BIGINT      │ YES     │ NULL    │ NULL    │ NULL    │\n",
       "│ fare_amount           │ DOUBLE      │ YES     │ NULL    │ NULL    │ NULL    │\n",
       "│ extra                 │ DOUBLE      │ YES     │ NULL    │ NULL    │ NULL    │\n",
       "│ mta_tax               │ DOUBLE      │ YES     │ NULL    │ NULL    │ NULL    │\n",
       "│ tip_amount            │ DOUBLE      │ YES     │ NULL    │ NULL    │ NULL    │\n",
       "│ tolls_amount          │ DOUBLE      │ YES     │ NULL    │ NULL    │ NULL    │\n",
       "│ improvement_surcharge │ DOUBLE      │ YES     │ NULL    │ NULL    │ NULL    │\n",
       "│ total_amount          │ DOUBLE      │ YES     │ NULL    │ NULL    │ NULL    │\n",
       "│ congestion_surcharge  │ DOUBLE      │ YES     │ NULL    │ NULL    │ NULL    │\n",
       "│ Airport_fee           │ DOUBLE      │ YES     │ NULL    │ NULL    │ NULL    │\n",
       "│ filename              │ VARCHAR     │ YES     │ NULL    │ NULL    │ NULL    │\n",
       "├───────────────────────┴─────────────┴─────────┴─────────┴─────────┴─────────┤\n",
       "│ 20 rows                                                           6 columns │\n",
       "└─────────────────────────────────────────────────────────────────────────────┘"
      ]
     },
     "execution_count": 10,
     "metadata": {},
     "output_type": "execute_result"
    }
   ],
   "source": [
    "# checkthe schema of the output query\n",
    "print(\"Check the schema using the DESCRIBE statement\")\n",
    "_desc_qry = f\"DESCRIBE {_read_qry}\"\n",
    "con.sql(_desc_qry)\n",
    "\n",
    "# other query profiling statement\n"
   ]
  },
  {
   "cell_type": "code",
   "execution_count": 11,
   "metadata": {},
   "outputs": [
    {
     "name": "stdout",
     "output_type": "stream",
     "text": [
      "┌───────────────────────────┐\n",
      "│       READ_PARQUET        │\n",
      "│    ────────────────────   │\n",
      "│         Function:         │\n",
      "│        READ_PARQUET       │\n",
      "│                           │\n",
      "│        Projections:       │\n",
      "│          VendorID         │\n",
      "│    tpep_pickup_datetime   │\n",
      "│   tpep_dropoff_datetime   │\n",
      "│      passenger_count      │\n",
      "│       trip_distance       │\n",
      "│         RatecodeID        │\n",
      "│     store_and_fwd_flag    │\n",
      "│        PULocationID       │\n",
      "│        DOLocationID       │\n",
      "│        payment_type       │\n",
      "│        fare_amount        │\n",
      "│           extra           │\n",
      "│          mta_tax          │\n",
      "│         tip_amount        │\n",
      "│        tolls_amount       │\n",
      "│   improvement_surcharge   │\n",
      "│        total_amount       │\n",
      "│    congestion_surcharge   │\n",
      "│        Airport_fee        │\n",
      "│          filename         │\n",
      "│                           │\n",
      "│       ~8893872 Rows       │\n",
      "└───────────────────────────┘\n",
      "\n"
     ]
    }
   ],
   "source": [
    "_explain_qry = f\"EXPLAIN {_read_qry}\"\n",
    "print(con.sql(_explain_qry).fetchall()[0][1])"
   ]
  },
  {
   "cell_type": "code",
   "execution_count": 20,
   "metadata": {},
   "outputs": [],
   "source": [
    "# helper function. We can reuse this as needed\n",
    "ddb_describe = lambda _qry:con.sql(f\"DESCRIBE {_qry}\")\n",
    "ddb_sql = lambda _qry:con.sql(f\"{_qry}\")\n",
    "ddb_get_reltb = lambda _tbname: con.sql(f\"from {_tbname}\") \n",
    "ddb_explain = lambda _qry:print(con.sql(f\"EXPLAIN {_qry}\").fetchall()[0][1])"
   ]
  },
  {
   "cell_type": "code",
   "execution_count": 21,
   "metadata": {},
   "outputs": [
    {
     "data": {
      "text/plain": [
       "┌───────────────┬─────────────┬─────────┬─────────┬─────────┬─────────┐\n",
       "│  column_name  │ column_type │  null   │   key   │ default │  extra  │\n",
       "│    varchar    │   varchar   │ varchar │ varchar │ varchar │ varchar │\n",
       "├───────────────┼─────────────┼─────────┼─────────┼─────────┼─────────┤\n",
       "│ trip_distance │ DOUBLE      │ YES     │ NULL    │ NULL    │ NULL    │\n",
       "│ fare_amount   │ DOUBLE      │ YES     │ NULL    │ NULL    │ NULL    │\n",
       "└───────────────┴─────────────┴─────────┴─────────┴─────────┴─────────┘"
      ]
     },
     "execution_count": 21,
     "metadata": {},
     "output_type": "execute_result"
    }
   ],
   "source": [
    "# load only specific columns\n",
    "cols = ['trip_distance','fare_amount']\n",
    "_qry = ddb_read_parquet(nytaxi_files,columns=cols)\n",
    "ddb_describe(_qry)"
   ]
  },
  {
   "cell_type": "markdown",
   "metadata": {},
   "source": [
    "**Create table**"
   ]
  },
  {
   "cell_type": "code",
   "execution_count": 22,
   "metadata": {},
   "outputs": [],
   "source": [
    "if 1==0:\n",
    "    _qry = ddb_read_parquet(files=nytaxi_files)\n",
    "    _cr_qry = f\"\"\" \n",
    "    create or replace table ny_taxi as {_qry}\n",
    "    \"\"\"\n",
    "\n",
    "    con.sql(_cr_qry)"
   ]
  },
  {
   "cell_type": "code",
   "execution_count": 23,
   "metadata": {},
   "outputs": [
    {
     "data": {
      "text/plain": [
       "┌─────────┐\n",
       "│  name   │\n",
       "│ varchar │\n",
       "├─────────┤\n",
       "│ ny_taxi │\n",
       "└─────────┘"
      ]
     },
     "execution_count": 23,
     "metadata": {},
     "output_type": "execute_result"
    }
   ],
   "source": [
    "con.sql(\"show tables\")"
   ]
  },
  {
   "cell_type": "code",
   "execution_count": 24,
   "metadata": {},
   "outputs": [
    {
     "data": {
      "text/html": [
       "<div>\n",
       "<style scoped>\n",
       "    .dataframe tbody tr th:only-of-type {\n",
       "        vertical-align: middle;\n",
       "    }\n",
       "\n",
       "    .dataframe tbody tr th {\n",
       "        vertical-align: top;\n",
       "    }\n",
       "\n",
       "    .dataframe thead th {\n",
       "        text-align: right;\n",
       "    }\n",
       "</style>\n",
       "<table border=\"1\" class=\"dataframe\">\n",
       "  <thead>\n",
       "    <tr style=\"text-align: right;\">\n",
       "      <th></th>\n",
       "      <th>database_name</th>\n",
       "      <th>database_size</th>\n",
       "      <th>block_size</th>\n",
       "      <th>total_blocks</th>\n",
       "      <th>used_blocks</th>\n",
       "      <th>free_blocks</th>\n",
       "      <th>wal_size</th>\n",
       "      <th>memory_usage</th>\n",
       "      <th>memory_limit</th>\n",
       "    </tr>\n",
       "  </thead>\n",
       "  <tbody>\n",
       "    <tr>\n",
       "      <th>0</th>\n",
       "      <td>storage</td>\n",
       "      <td>1.4 GiB</td>\n",
       "      <td>262144</td>\n",
       "      <td>5842</td>\n",
       "      <td>2921</td>\n",
       "      <td>2921</td>\n",
       "      <td>0 bytes</td>\n",
       "      <td>512.0 KiB</td>\n",
       "      <td>12.7 GiB</td>\n",
       "    </tr>\n",
       "  </tbody>\n",
       "</table>\n",
       "</div>"
      ],
      "text/plain": [
       "  database_name database_size  block_size  total_blocks  used_blocks  \\\n",
       "0       storage       1.4 GiB      262144          5842         2921   \n",
       "\n",
       "   free_blocks wal_size memory_usage memory_limit  \n",
       "0         2921  0 bytes    512.0 KiB     12.7 GiB  "
      ]
     },
     "metadata": {},
     "output_type": "display_data"
    }
   ],
   "source": [
    "show_db_size()"
   ]
  },
  {
   "cell_type": "markdown",
   "metadata": {},
   "source": [
    "## Friendlier SQL\n",
    "* Great blog posts by Alex Monahan\n",
    "    * https://duckdb.org/2022/05/04/friendlier-sql.html\n",
    "    * https://duckdb.org/2023/08/23/even-friendlier-sql.html\n",
    "* highlights\n",
    "    * select * Exclude \n",
    "    * select * Replace \n",
    "    * COLUMNS \n"
   ]
  },
  {
   "cell_type": "markdown",
   "metadata": {},
   "source": [
    "## Natively read Pandas\n",
    "* duckdb can read pandas df without the need for serialization and de-serialization. We can execute SQL commands on pdf without significant overhead!!! \n",
    "* same for arrow and polars\n",
    "* certain joins such as value between A and B is more efficient in SQL"
   ]
  },
  {
   "cell_type": "code",
   "execution_count": 25,
   "metadata": {},
   "outputs": [
    {
     "name": "stdout",
     "output_type": "stream",
     "text": [
      "<class 'pandas.core.frame.DataFrame'>\n",
      "RangeIndex: 150 entries, 0 to 149\n",
      "Data columns (total 5 columns):\n",
      " #   Column        Non-Null Count  Dtype  \n",
      "---  ------        --------------  -----  \n",
      " 0   sepal_length  150 non-null    float64\n",
      " 1   sepal_width   150 non-null    float64\n",
      " 2   petal_length  150 non-null    float64\n",
      " 3   petal_width   150 non-null    float64\n",
      " 4   species       150 non-null    object \n",
      "dtypes: float64(4), object(1)\n",
      "memory usage: 6.0+ KB\n"
     ]
    }
   ],
   "source": [
    "# load iris dataset from seaborn\n",
    "iris_df = sns.load_dataset('iris')\n",
    "iris_df.info()"
   ]
  },
  {
   "cell_type": "code",
   "execution_count": 26,
   "metadata": {},
   "outputs": [
    {
     "data": {
      "text/plain": [
       "┌────────────┬──────────────┬─────────────┬──────────────┬─────────────┐\n",
       "│  species   │ sepal_length │ sepal_width │ petal_length │ petal_width │\n",
       "│  varchar   │    double    │   double    │    double    │   double    │\n",
       "├────────────┼──────────────┼─────────────┼──────────────┼─────────────┤\n",
       "│ setosa     │          5.8 │         4.4 │          1.9 │         0.6 │\n",
       "│ versicolor │          7.0 │         3.4 │          5.1 │         1.8 │\n",
       "│ virginica  │          7.9 │         3.8 │          6.9 │         2.5 │\n",
       "└────────────┴──────────────┴─────────────┴──────────────┴─────────────┘"
      ]
     },
     "execution_count": 26,
     "metadata": {},
     "output_type": "execute_result"
    }
   ],
   "source": [
    "# for each species get the max value of each column\n",
    "# we use the COLUMNS(* EXCLUDE ..) expression to select all columns excpet species\n",
    "_qry = \"\"\" \n",
    "select\n",
    "    species,\n",
    "    MAX(COLUMNS(* EXCLUDE species))\n",
    "from iris_df\n",
    "group by all\n",
    "order by species\n",
    "\"\"\"\n",
    "con.sql(_qry)"
   ]
  },
  {
   "cell_type": "code",
   "execution_count": 28,
   "metadata": {},
   "outputs": [
    {
     "name": "stdout",
     "output_type": "stream",
     "text": [
      "┌───────────────────────────┐\n",
      "│          ORDER_BY         │\n",
      "│    ────────────────────   │\n",
      "│    iris_df.species ASC    │\n",
      "└─────────────┬─────────────┘\n",
      "┌─────────────┴─────────────┐\n",
      "│       HASH_GROUP_BY       │\n",
      "│    ────────────────────   │\n",
      "│         Groups: #0        │\n",
      "│                           │\n",
      "│        Aggregates:        │\n",
      "│          max(#1)          │\n",
      "│          max(#2)          │\n",
      "│          max(#3)          │\n",
      "│          max(#4)          │\n",
      "│                           │\n",
      "│          ~75 Rows         │\n",
      "└─────────────┬─────────────┘\n",
      "┌─────────────┴─────────────┐\n",
      "│         PROJECTION        │\n",
      "│    ────────────────────   │\n",
      "│          species          │\n",
      "│        sepal_length       │\n",
      "│        sepal_width        │\n",
      "│        petal_length       │\n",
      "│        petal_width        │\n",
      "│                           │\n",
      "│         ~150 Rows         │\n",
      "└─────────────┬─────────────┘\n",
      "┌─────────────┴─────────────┐\n",
      "│        PANDAS_SCAN        │\n",
      "│    ────────────────────   │\n",
      "│   Function: PANDAS_SCAN   │\n",
      "│                           │\n",
      "│        Projections:       │\n",
      "│          species          │\n",
      "│        sepal_length       │\n",
      "│        sepal_width        │\n",
      "│        petal_length       │\n",
      "│        petal_width        │\n",
      "│                           │\n",
      "│         ~150 Rows         │\n",
      "└───────────────────────────┘\n",
      "\n"
     ]
    }
   ],
   "source": [
    "ddb_explain(_qry)"
   ]
  },
  {
   "cell_type": "markdown",
   "metadata": {},
   "source": [
    "## Python API\n",
    "* lazy execution\n",
    "* can pipe multiple \n",
    "* Reference:\n",
    "    * https://duckdb.org/docs/api/python/overview\n",
    "    * Relational API: https://duckdb.org/docs/api/python/relational_api\n",
    "    * Functional API: https://duckdb.org/docs/api/python/function"
   ]
  },
  {
   "cell_type": "code",
   "execution_count": 29,
   "metadata": {},
   "outputs": [],
   "source": [
    "# create the relational table\n",
    "ny_taxi_tb = con.sql(\"select * from ny_taxi\")\n",
    "\n",
    "# duckdb also support from table select cols in addition  to the traditional select cols from table\n",
    "if 1==0: ny_taxi_tb = con.sql(\"from ny_taxi\")"
   ]
  },
  {
   "cell_type": "code",
   "execution_count": 30,
   "metadata": {},
   "outputs": [
    {
     "data": {
      "text/html": [
       "<div>\n",
       "<style scoped>\n",
       "    .dataframe tbody tr th:only-of-type {\n",
       "        vertical-align: middle;\n",
       "    }\n",
       "\n",
       "    .dataframe tbody tr th {\n",
       "        vertical-align: top;\n",
       "    }\n",
       "\n",
       "    .dataframe thead th {\n",
       "        text-align: right;\n",
       "    }\n",
       "</style>\n",
       "<table border=\"1\" class=\"dataframe\">\n",
       "  <thead>\n",
       "    <tr style=\"text-align: right;\">\n",
       "      <th></th>\n",
       "      <th>VendorID</th>\n",
       "      <th>tpep_pickup_datetime</th>\n",
       "      <th>tpep_dropoff_datetime</th>\n",
       "      <th>passenger_count</th>\n",
       "      <th>trip_distance</th>\n",
       "      <th>RatecodeID</th>\n",
       "      <th>store_and_fwd_flag</th>\n",
       "      <th>PULocationID</th>\n",
       "      <th>DOLocationID</th>\n",
       "      <th>payment_type</th>\n",
       "      <th>fare_amount</th>\n",
       "      <th>extra</th>\n",
       "      <th>mta_tax</th>\n",
       "      <th>tip_amount</th>\n",
       "      <th>tolls_amount</th>\n",
       "      <th>improvement_surcharge</th>\n",
       "      <th>total_amount</th>\n",
       "      <th>congestion_surcharge</th>\n",
       "      <th>Airport_fee</th>\n",
       "      <th>filename</th>\n",
       "    </tr>\n",
       "  </thead>\n",
       "  <tbody>\n",
       "    <tr>\n",
       "      <th>0</th>\n",
       "      <td>2</td>\n",
       "      <td>2024-01-01 00:57:55</td>\n",
       "      <td>2024-01-01 01:17:43</td>\n",
       "      <td>1</td>\n",
       "      <td>1.72</td>\n",
       "      <td>1</td>\n",
       "      <td>N</td>\n",
       "      <td>186</td>\n",
       "      <td>79</td>\n",
       "      <td>2</td>\n",
       "      <td>17.7</td>\n",
       "      <td>1.0</td>\n",
       "      <td>0.5</td>\n",
       "      <td>0.00</td>\n",
       "      <td>0.0</td>\n",
       "      <td>1.0</td>\n",
       "      <td>22.70</td>\n",
       "      <td>2.5</td>\n",
       "      <td>0.00</td>\n",
       "      <td>https://d37ci6vzurychx.cloudfront.net/trip-dat...</td>\n",
       "    </tr>\n",
       "    <tr>\n",
       "      <th>1</th>\n",
       "      <td>1</td>\n",
       "      <td>2024-01-01 00:03:00</td>\n",
       "      <td>2024-01-01 00:09:36</td>\n",
       "      <td>1</td>\n",
       "      <td>1.80</td>\n",
       "      <td>1</td>\n",
       "      <td>N</td>\n",
       "      <td>140</td>\n",
       "      <td>236</td>\n",
       "      <td>1</td>\n",
       "      <td>10.0</td>\n",
       "      <td>3.5</td>\n",
       "      <td>0.5</td>\n",
       "      <td>3.75</td>\n",
       "      <td>0.0</td>\n",
       "      <td>1.0</td>\n",
       "      <td>18.75</td>\n",
       "      <td>2.5</td>\n",
       "      <td>0.00</td>\n",
       "      <td>https://d37ci6vzurychx.cloudfront.net/trip-dat...</td>\n",
       "    </tr>\n",
       "    <tr>\n",
       "      <th>2</th>\n",
       "      <td>1</td>\n",
       "      <td>2024-01-01 00:17:06</td>\n",
       "      <td>2024-01-01 00:35:01</td>\n",
       "      <td>1</td>\n",
       "      <td>4.70</td>\n",
       "      <td>1</td>\n",
       "      <td>N</td>\n",
       "      <td>236</td>\n",
       "      <td>79</td>\n",
       "      <td>1</td>\n",
       "      <td>23.3</td>\n",
       "      <td>3.5</td>\n",
       "      <td>0.5</td>\n",
       "      <td>3.00</td>\n",
       "      <td>0.0</td>\n",
       "      <td>1.0</td>\n",
       "      <td>31.30</td>\n",
       "      <td>2.5</td>\n",
       "      <td>0.00</td>\n",
       "      <td>https://d37ci6vzurychx.cloudfront.net/trip-dat...</td>\n",
       "    </tr>\n",
       "    <tr>\n",
       "      <th>3</th>\n",
       "      <td>1</td>\n",
       "      <td>2024-01-01 00:36:38</td>\n",
       "      <td>2024-01-01 00:44:56</td>\n",
       "      <td>1</td>\n",
       "      <td>1.40</td>\n",
       "      <td>1</td>\n",
       "      <td>N</td>\n",
       "      <td>79</td>\n",
       "      <td>211</td>\n",
       "      <td>1</td>\n",
       "      <td>10.0</td>\n",
       "      <td>3.5</td>\n",
       "      <td>0.5</td>\n",
       "      <td>2.00</td>\n",
       "      <td>0.0</td>\n",
       "      <td>1.0</td>\n",
       "      <td>17.00</td>\n",
       "      <td>2.5</td>\n",
       "      <td>0.00</td>\n",
       "      <td>https://d37ci6vzurychx.cloudfront.net/trip-dat...</td>\n",
       "    </tr>\n",
       "    <tr>\n",
       "      <th>4</th>\n",
       "      <td>1</td>\n",
       "      <td>2024-01-01 00:46:51</td>\n",
       "      <td>2024-01-01 00:52:57</td>\n",
       "      <td>1</td>\n",
       "      <td>0.80</td>\n",
       "      <td>1</td>\n",
       "      <td>N</td>\n",
       "      <td>211</td>\n",
       "      <td>148</td>\n",
       "      <td>1</td>\n",
       "      <td>7.9</td>\n",
       "      <td>3.5</td>\n",
       "      <td>0.5</td>\n",
       "      <td>3.20</td>\n",
       "      <td>0.0</td>\n",
       "      <td>1.0</td>\n",
       "      <td>16.10</td>\n",
       "      <td>2.5</td>\n",
       "      <td>0.00</td>\n",
       "      <td>https://d37ci6vzurychx.cloudfront.net/trip-dat...</td>\n",
       "    </tr>\n",
       "    <tr>\n",
       "      <th>5</th>\n",
       "      <td>1</td>\n",
       "      <td>2024-01-01 00:54:08</td>\n",
       "      <td>2024-01-01 01:26:31</td>\n",
       "      <td>1</td>\n",
       "      <td>4.70</td>\n",
       "      <td>1</td>\n",
       "      <td>N</td>\n",
       "      <td>148</td>\n",
       "      <td>141</td>\n",
       "      <td>1</td>\n",
       "      <td>29.6</td>\n",
       "      <td>3.5</td>\n",
       "      <td>0.5</td>\n",
       "      <td>6.90</td>\n",
       "      <td>0.0</td>\n",
       "      <td>1.0</td>\n",
       "      <td>41.50</td>\n",
       "      <td>2.5</td>\n",
       "      <td>0.00</td>\n",
       "      <td>https://d37ci6vzurychx.cloudfront.net/trip-dat...</td>\n",
       "    </tr>\n",
       "    <tr>\n",
       "      <th>6</th>\n",
       "      <td>2</td>\n",
       "      <td>2024-01-01 00:49:44</td>\n",
       "      <td>2024-01-01 01:15:47</td>\n",
       "      <td>2</td>\n",
       "      <td>10.82</td>\n",
       "      <td>1</td>\n",
       "      <td>N</td>\n",
       "      <td>138</td>\n",
       "      <td>181</td>\n",
       "      <td>1</td>\n",
       "      <td>45.7</td>\n",
       "      <td>6.0</td>\n",
       "      <td>0.5</td>\n",
       "      <td>10.00</td>\n",
       "      <td>0.0</td>\n",
       "      <td>1.0</td>\n",
       "      <td>64.95</td>\n",
       "      <td>0.0</td>\n",
       "      <td>1.75</td>\n",
       "      <td>https://d37ci6vzurychx.cloudfront.net/trip-dat...</td>\n",
       "    </tr>\n",
       "    <tr>\n",
       "      <th>7</th>\n",
       "      <td>1</td>\n",
       "      <td>2024-01-01 00:30:40</td>\n",
       "      <td>2024-01-01 00:58:40</td>\n",
       "      <td>0</td>\n",
       "      <td>3.00</td>\n",
       "      <td>1</td>\n",
       "      <td>N</td>\n",
       "      <td>246</td>\n",
       "      <td>231</td>\n",
       "      <td>2</td>\n",
       "      <td>25.4</td>\n",
       "      <td>3.5</td>\n",
       "      <td>0.5</td>\n",
       "      <td>0.00</td>\n",
       "      <td>0.0</td>\n",
       "      <td>1.0</td>\n",
       "      <td>30.40</td>\n",
       "      <td>2.5</td>\n",
       "      <td>0.00</td>\n",
       "      <td>https://d37ci6vzurychx.cloudfront.net/trip-dat...</td>\n",
       "    </tr>\n",
       "    <tr>\n",
       "      <th>8</th>\n",
       "      <td>2</td>\n",
       "      <td>2024-01-01 00:26:01</td>\n",
       "      <td>2024-01-01 00:54:12</td>\n",
       "      <td>1</td>\n",
       "      <td>5.44</td>\n",
       "      <td>1</td>\n",
       "      <td>N</td>\n",
       "      <td>161</td>\n",
       "      <td>261</td>\n",
       "      <td>2</td>\n",
       "      <td>31.0</td>\n",
       "      <td>1.0</td>\n",
       "      <td>0.5</td>\n",
       "      <td>0.00</td>\n",
       "      <td>0.0</td>\n",
       "      <td>1.0</td>\n",
       "      <td>36.00</td>\n",
       "      <td>2.5</td>\n",
       "      <td>0.00</td>\n",
       "      <td>https://d37ci6vzurychx.cloudfront.net/trip-dat...</td>\n",
       "    </tr>\n",
       "    <tr>\n",
       "      <th>9</th>\n",
       "      <td>2</td>\n",
       "      <td>2024-01-01 00:28:08</td>\n",
       "      <td>2024-01-01 00:29:16</td>\n",
       "      <td>1</td>\n",
       "      <td>0.04</td>\n",
       "      <td>1</td>\n",
       "      <td>N</td>\n",
       "      <td>113</td>\n",
       "      <td>113</td>\n",
       "      <td>2</td>\n",
       "      <td>3.0</td>\n",
       "      <td>1.0</td>\n",
       "      <td>0.5</td>\n",
       "      <td>0.00</td>\n",
       "      <td>0.0</td>\n",
       "      <td>1.0</td>\n",
       "      <td>8.00</td>\n",
       "      <td>2.5</td>\n",
       "      <td>0.00</td>\n",
       "      <td>https://d37ci6vzurychx.cloudfront.net/trip-dat...</td>\n",
       "    </tr>\n",
       "  </tbody>\n",
       "</table>\n",
       "</div>"
      ],
      "text/plain": [
       "   VendorID tpep_pickup_datetime tpep_dropoff_datetime  passenger_count  \\\n",
       "0         2  2024-01-01 00:57:55   2024-01-01 01:17:43                1   \n",
       "1         1  2024-01-01 00:03:00   2024-01-01 00:09:36                1   \n",
       "2         1  2024-01-01 00:17:06   2024-01-01 00:35:01                1   \n",
       "3         1  2024-01-01 00:36:38   2024-01-01 00:44:56                1   \n",
       "4         1  2024-01-01 00:46:51   2024-01-01 00:52:57                1   \n",
       "5         1  2024-01-01 00:54:08   2024-01-01 01:26:31                1   \n",
       "6         2  2024-01-01 00:49:44   2024-01-01 01:15:47                2   \n",
       "7         1  2024-01-01 00:30:40   2024-01-01 00:58:40                0   \n",
       "8         2  2024-01-01 00:26:01   2024-01-01 00:54:12                1   \n",
       "9         2  2024-01-01 00:28:08   2024-01-01 00:29:16                1   \n",
       "\n",
       "   trip_distance  RatecodeID store_and_fwd_flag  PULocationID  DOLocationID  \\\n",
       "0           1.72           1                  N           186            79   \n",
       "1           1.80           1                  N           140           236   \n",
       "2           4.70           1                  N           236            79   \n",
       "3           1.40           1                  N            79           211   \n",
       "4           0.80           1                  N           211           148   \n",
       "5           4.70           1                  N           148           141   \n",
       "6          10.82           1                  N           138           181   \n",
       "7           3.00           1                  N           246           231   \n",
       "8           5.44           1                  N           161           261   \n",
       "9           0.04           1                  N           113           113   \n",
       "\n",
       "   payment_type  fare_amount  extra  mta_tax  tip_amount  tolls_amount  \\\n",
       "0             2         17.7    1.0      0.5        0.00           0.0   \n",
       "1             1         10.0    3.5      0.5        3.75           0.0   \n",
       "2             1         23.3    3.5      0.5        3.00           0.0   \n",
       "3             1         10.0    3.5      0.5        2.00           0.0   \n",
       "4             1          7.9    3.5      0.5        3.20           0.0   \n",
       "5             1         29.6    3.5      0.5        6.90           0.0   \n",
       "6             1         45.7    6.0      0.5       10.00           0.0   \n",
       "7             2         25.4    3.5      0.5        0.00           0.0   \n",
       "8             2         31.0    1.0      0.5        0.00           0.0   \n",
       "9             2          3.0    1.0      0.5        0.00           0.0   \n",
       "\n",
       "   improvement_surcharge  total_amount  congestion_surcharge  Airport_fee  \\\n",
       "0                    1.0         22.70                   2.5         0.00   \n",
       "1                    1.0         18.75                   2.5         0.00   \n",
       "2                    1.0         31.30                   2.5         0.00   \n",
       "3                    1.0         17.00                   2.5         0.00   \n",
       "4                    1.0         16.10                   2.5         0.00   \n",
       "5                    1.0         41.50                   2.5         0.00   \n",
       "6                    1.0         64.95                   0.0         1.75   \n",
       "7                    1.0         30.40                   2.5         0.00   \n",
       "8                    1.0         36.00                   2.5         0.00   \n",
       "9                    1.0          8.00                   2.5         0.00   \n",
       "\n",
       "                                            filename  \n",
       "0  https://d37ci6vzurychx.cloudfront.net/trip-dat...  \n",
       "1  https://d37ci6vzurychx.cloudfront.net/trip-dat...  \n",
       "2  https://d37ci6vzurychx.cloudfront.net/trip-dat...  \n",
       "3  https://d37ci6vzurychx.cloudfront.net/trip-dat...  \n",
       "4  https://d37ci6vzurychx.cloudfront.net/trip-dat...  \n",
       "5  https://d37ci6vzurychx.cloudfront.net/trip-dat...  \n",
       "6  https://d37ci6vzurychx.cloudfront.net/trip-dat...  \n",
       "7  https://d37ci6vzurychx.cloudfront.net/trip-dat...  \n",
       "8  https://d37ci6vzurychx.cloudfront.net/trip-dat...  \n",
       "9  https://d37ci6vzurychx.cloudfront.net/trip-dat...  "
      ]
     },
     "metadata": {},
     "output_type": "display_data"
    }
   ],
   "source": [
    "# can conver duckdb table to arrow/pandas/polars/etc.\n",
    "# reference: https://duckdb.org/docs/api/python/overview\n",
    "# to pandas\n",
    "display(ny_taxi_tb.limit(10).df())\n",
    "\n",
    "# to arrow\n",
    "if 1==0: ny_taxi_tb.limit(10).arrow()\n",
    "\n",
    "# to polars\n",
    "if 1==0: ny_taxi_tb.limit(10).pl()"
   ]
  },
  {
   "cell_type": "code",
   "execution_count": 31,
   "metadata": {},
   "outputs": [
    {
     "data": {
      "text/plain": [
       "VendorID                   INTEGER\n",
       "tpep_pickup_datetime     TIMESTAMP\n",
       "tpep_dropoff_datetime    TIMESTAMP\n",
       "passenger_count             BIGINT\n",
       "trip_distance               DOUBLE\n",
       "RatecodeID                  BIGINT\n",
       "store_and_fwd_flag         VARCHAR\n",
       "PULocationID               INTEGER\n",
       "DOLocationID               INTEGER\n",
       "payment_type                BIGINT\n",
       "fare_amount                 DOUBLE\n",
       "extra                       DOUBLE\n",
       "mta_tax                     DOUBLE\n",
       "tip_amount                  DOUBLE\n",
       "tolls_amount                DOUBLE\n",
       "improvement_surcharge       DOUBLE\n",
       "total_amount                DOUBLE\n",
       "congestion_surcharge        DOUBLE\n",
       "Airport_fee                 DOUBLE\n",
       "filename                   VARCHAR\n",
       "dtype: object"
      ]
     },
     "execution_count": 31,
     "metadata": {},
     "output_type": "execute_result"
    }
   ],
   "source": [
    "# get columns and dtypes\n",
    "pd.Series(\n",
    "    data=ny_taxi_tb.types,\n",
    "    index=ny_taxi_tb.columns\n",
    ")"
   ]
  },
  {
   "cell_type": "code",
   "execution_count": 23,
   "metadata": {},
   "outputs": [
    {
     "data": {
      "text/plain": [
       "┌────────────────────────────┬────────────────────────────┐\n",
       "│ tpep_pickup_datetime.min() │ tpep_pickup_datetime.max() │\n",
       "│         timestamp          │         timestamp          │\n",
       "├────────────────────────────┼────────────────────────────┤\n",
       "│ 2002-12-31 16:46:07        │ 2026-06-26 23:53:12        │\n",
       "└────────────────────────────┴────────────────────────────┘"
      ]
     },
     "execution_count": 23,
     "metadata": {},
     "output_type": "execute_result"
    }
   ],
   "source": [
    "# support chaining operations\n",
    "(\n",
    "    ny_taxi_tb\n",
    "    # .aggregate('min(tpep_pickup_datetime),max(tpep_pickup_datetime)')\n",
    "    .aggregate(\"tpep_pickup_datetime.min(),tpep_pickup_datetime.max()\")\n",
    ")"
   ]
  },
  {
   "cell_type": "code",
   "execution_count": 65,
   "metadata": {},
   "outputs": [
    {
     "name": "stdout",
     "output_type": "stream",
     "text": [
      "execution time: 0.15 seconds\n"
     ]
    },
    {
     "data": {
      "image/png": "[encoded data removed]",
      "text/plain": [
       "<Figure size 1000x700 with 1 Axes>"
      ]
     },
     "metadata": {},
     "output_type": "display_data"
    }
   ],
   "source": [
    "_st_time = datetime.now()\n",
    "_=plt.figure(figsize=(10,7))\n",
    "_=\\\n",
    "(\n",
    "    ny_taxi_tb\n",
    "    .filter(\"tpep_pickup_datetime between '2024-01-01' and '2024-9-30'\")\n",
    "    .aggregate(\"\"\" \n",
    "               tpep_pickup_datetime::date as pickup_date,\n",
    "               -- duckdb allows pipe function such as func1().func2().func3() making it easire to read. \n",
    "               total_amount.sum().round()::int as tot_amt,\n",
    "               sum(trip_distance).round()::int as tot_dist,\n",
    "               (tot_amt/tot_dist).round(2) as avg_fare,\n",
    "               count(*) as counts,\n",
    "               \"\"\"\n",
    "            )\n",
    "    .order('pickup_date')\n",
    "    .df()\n",
    "    .pipe(sns.lineplot,x='pickup_date',y='avg_fare')\n",
    ")\n",
    "\n",
    "_=plt.title(\"Avg Fare by Pickup Date\")\n",
    "_=get_elapsed_time(_st_time)"
   ]
  },
  {
   "cell_type": "code",
   "execution_count": 66,
   "metadata": {},
   "outputs": [
    {
     "name": "stdout",
     "output_type": "stream",
     "text": [
      "Memory used: 959 MBs\n"
     ]
    }
   ],
   "source": [
    "# Not the best way to measure max memory used by duckdb. \n",
    "# to highlight the memory usage between duckdb and pandas \n",
    "memory_used()"
   ]
  },
  {
   "cell_type": "code",
   "execution_count": 67,
   "metadata": {},
   "outputs": [],
   "source": [
    "# convert output to Pandas or Arrow\n",
    "# ~30M rows. ~4GB in Pandas\n",
    "ny_taxi_df = ny_taxi_tb.df()"
   ]
  },
  {
   "cell_type": "code",
   "execution_count": 69,
   "metadata": {},
   "outputs": [
    {
     "name": "stdout",
     "output_type": "stream",
     "text": [
      "<class 'pandas.core.frame.DataFrame'>\n",
      "RangeIndex: 30021209 entries, 0 to 30021208\n",
      "Data columns (total 20 columns):\n",
      " #   Column                 Dtype         \n",
      "---  ------                 -----         \n",
      " 0   VendorID               int32         \n",
      " 1   tpep_pickup_datetime   datetime64[us]\n",
      " 2   tpep_dropoff_datetime  datetime64[us]\n",
      " 3   passenger_count        float64       \n",
      " 4   trip_distance          float64       \n",
      " 5   RatecodeID             float64       \n",
      " 6   store_and_fwd_flag     object        \n",
      " 7   PULocationID           int32         \n",
      " 8   DOLocationID           int32         \n",
      " 9   payment_type           int64         \n",
      " 10  fare_amount            float64       \n",
      " 11  extra                  float64       \n",
      " 12  mta_tax                float64       \n",
      " 13  tip_amount             float64       \n",
      " 14  tolls_amount           float64       \n",
      " 15  improvement_surcharge  float64       \n",
      " 16  total_amount           float64       \n",
      " 17  congestion_surcharge   float64       \n",
      " 18  Airport_fee            float64       \n",
      " 19  filename               object        \n",
      "dtypes: datetime64[us](2), float64(12), int32(3), int64(1), object(2)\n",
      "memory usage: 4.1+ GB\n"
     ]
    }
   ],
   "source": [
    "ny_taxi_df.info()"
   ]
  },
  {
   "cell_type": "code",
   "execution_count": 70,
   "metadata": {},
   "outputs": [
    {
     "name": "stdout",
     "output_type": "stream",
     "text": [
      "Memory used: 4,990 MBs\n"
     ]
    }
   ],
   "source": [
    "memory_used()"
   ]
  },
  {
   "cell_type": "code",
   "execution_count": 71,
   "metadata": {},
   "outputs": [
    {
     "name": "stdout",
     "output_type": "stream",
     "text": [
      "execution time: 18.83 seconds\n"
     ]
    },
    {
     "data": {
      "text/plain": [
       "18.83"
      ]
     },
     "execution_count": 71,
     "metadata": {},
     "output_type": "execute_result"
    },
    {
     "data": {
      "image/png": "[encoded data removed]",
      "text/plain": [
       "<Figure size 1000x700 with 1 Axes>"
      ]
     },
     "metadata": {},
     "output_type": "display_data"
    }
   ],
   "source": [
    "_st_time = datetime.now()\n",
    "_=plt.figure(figsize=(10,7))\n",
    "_=\\\n",
    "(\n",
    "    ny_taxi_df\n",
    "    .query(\"tpep_pickup_datetime >= '2024-01-01' and tpep_pickup_datetime <='2024-9-30'\")\n",
    "    .assign(pickup_date=lambda x:x['tpep_pickup_datetime'].dt.date)\n",
    "    .groupby('pickup_date')\n",
    "    .agg(\n",
    "        tot_amt=('total_amount','sum'),\n",
    "        tot_dist = ('trip_distance','sum'),\n",
    "    )\n",
    "    .assign(avg_fare=lambda df:df['tot_amt']/df['tot_dist'])\n",
    "    .sort_index()\n",
    "    .reset_index()\n",
    "    .pipe(sns.lineplot,x='pickup_date',y='avg_fare')\n",
    ")\n",
    "_=plt.title(\"Avg Fare by Pickup Date\")\n",
    "get_elapsed_time(_st_time)"
   ]
  },
  {
   "cell_type": "code",
   "execution_count": 72,
   "metadata": {},
   "outputs": [
    {
     "name": "stdout",
     "output_type": "stream",
     "text": [
      "Memory used: 5,259 MBs\n"
     ]
    }
   ],
   "source": [
    "memory_used()"
   ]
  },
  {
   "cell_type": "markdown",
   "metadata": {},
   "source": [
    "## Get the best of Python + SQL\n",
    "* Better code organization using function and classes, for loops, etc.,\n",
    "* wider python eco system for plotting,ML, etc., \n"
   ]
  },
  {
   "cell_type": "markdown",
   "metadata": {},
   "source": [
    "## Scaling outside the Warehouse using AWS Lambda"
   ]
  },
  {
   "cell_type": "code",
   "execution_count": 36,
   "metadata": {},
   "outputs": [],
   "source": [
    "import boto3\n",
    "import json\n",
    "from functools import partial\n",
    "import re\n",
    "import s3fs\n",
    "from time import sleep"
   ]
  },
  {
   "cell_type": "code",
   "execution_count": 37,
   "metadata": {},
   "outputs": [],
   "source": [
    "%run utility.ipynb"
   ]
  },
  {
   "cell_type": "code",
   "execution_count": 38,
   "metadata": {},
   "outputs": [],
   "source": [
    "lambda_client = boto3.client('lambda')\n",
    "log_client = boto3.client('logs')\n",
    "\n",
    "# create s3fs object\n",
    "creds = boto3.Session().get_credentials().get_frozen_credentials()\n",
    "_s3fs = s3fs.S3FileSystem(key=creds.access_key,secret=creds.secret_key,skip_instance_cache=True)\n",
    "\n",
    "def get_s3_file_info(files: list):\n",
    "    \"\"\" Function to get file info of s3 files\"\"\"\n",
    "    _files = files if isinstance(files,list) else [files]\n",
    "    return pd.DataFrame([_s3fs.info(file) for file in _files])"
   ]
  },
  {
   "cell_type": "code",
   "execution_count": 39,
   "metadata": {},
   "outputs": [],
   "source": [
    "def get_aggregate_qry(input_path:str|list,output_path:str=None) :\n",
    "    \"\"\" \n",
    "    Function\n",
    "    \"\"\"\n",
    "    # if input path is str (signle file) convert to list\n",
    "    input_path = input_path if isinstance(input_path,list) else [input_path]\n",
    "    \n",
    "    _agg_qry = f\"\"\" \n",
    "        select \n",
    "            tpep_pickup_datetime::date as pickup_date,\n",
    "            sum(total_amount).round()::int as tot_amt,\n",
    "            sum(trip_distance).round()::int as tot_dist,\n",
    "            (tot_amt/tot_dist).round(2) as avg_fare,\n",
    "            count(*) as counts\n",
    "        from read_parquet({input_path})\n",
    "        group by all\n",
    "    \"\"\"\n",
    "    \n",
    "    if output_path:\n",
    "        _final_qry = f\"\"\" \n",
    "        COPY (\n",
    "            {_agg_qry}\n",
    "        ) \n",
    "        TO '{output_path}' (FORMAT PARQUET,OVERWRITE true)\n",
    "        \"\"\"\n",
    "    else:\n",
    "        _final_qry = _agg_qry\n",
    "    \n",
    "    return _final_qry\n",
    "    "
   ]
  },
  {
   "cell_type": "code",
   "execution_count": 40,
   "metadata": {},
   "outputs": [],
   "source": [
    "def generate_nytaxi_tasks(months:list,s3_output_base) -> dict:\n",
    "    \"\"\" \n",
    "    Function to generate the tasks for each month\n",
    "    \"\"\"\n",
    "    \n",
    "    def get_output_path(month: str) -> str:\n",
    "        return f\"{s3_output_base.rstrip('/')}/agg_{month}.parquet\"\n",
    "\n",
    "    \n",
    "    def get_qry(month: str) ->str:\n",
    "        \"\"\" \n",
    "        get the aggregate query for the specified input/output paths\n",
    "        \"\"\"\n",
    "        _input_file = get_nytaxi_data_path(month)\n",
    "        _output_file = get_output_path(month)\n",
    "        return get_aggregate_qry(\n",
    "            input_path=_input_file,\n",
    "            output_path=_output_file\n",
    "        )\n",
    "    \n",
    "    def create_task(month: str) -> dict:\n",
    "        \"\"\" \n",
    "        \"\"\"    \n",
    "        return {\n",
    "            'qry':get_qry(month),\n",
    "            'month':month,\n",
    "            'output_path':get_output_path(month)\n",
    "        }\n",
    "    \n",
    "    def create_tasks() -> dict:\n",
    "        \"\"\" \n",
    "        \"\"\"\n",
    "        print(f\"Generating {len(months)} tasks\")\n",
    "        return {month:create_task(month) for month in months}\n",
    "\n",
    "    return create_tasks()"
   ]
  },
  {
   "cell_type": "code",
   "execution_count": 41,
   "metadata": {},
   "outputs": [
    {
     "name": "stdout",
     "output_type": "stream",
     "text": [
      "Generating 9 tasks\n"
     ]
    }
   ],
   "source": [
    "# months = get_months(\"2020-01\",\"2024-09\")\n",
    "months = get_months('2024-01','2024-09')\n",
    "output_base = \"s3://adarshnamala/pydata_demo/ny_taxi/lambda/\"\n",
    "tasks = generate_nytaxi_tasks(months,s3_output_base=output_base)"
   ]
  },
  {
   "cell_type": "code",
   "execution_count": 42,
   "metadata": {},
   "outputs": [
    {
     "data": {
      "text/plain": [
       "{'qry': \" \\n        COPY (\\n             \\n        select \\n            tpep_pickup_datetime::date as pickup_date,\\n            sum(total_amount).round()::int as tot_amt,\\n            sum(trip_distance).round()::int as tot_dist,\\n            (tot_amt/tot_dist).round(2) as avg_fare,\\n            count(*) as counts\\n        from read_parquet(['https://d37ci6vzurychx.cloudfront.net/trip-data/yellow_tripdata_2024-01.parquet'])\\n        group by all\\n    \\n        ) \\n        TO 's3://adarshnamala/pydata_demo/ny_taxi/lambda/agg_2024-01.parquet' (FORMAT PARQUET,OVERWRITE true)\\n        \",\n",
       " 'month': '2024-01',\n",
       " 'output_path': 's3://adarshnamala/pydata_demo/ny_taxi/lambda/agg_2024-01.parquet'}"
      ]
     },
     "execution_count": 42,
     "metadata": {},
     "output_type": "execute_result"
    }
   ],
   "source": [
    "tasks[months[0]]"
   ]
  },
  {
   "cell_type": "code",
   "execution_count": 43,
   "metadata": {},
   "outputs": [],
   "source": [
    "lambda_tasks = DuckdbLambda_Tasks(tasks=tasks,\n",
    "                      lambda_client=lambda_client,\n",
    "                      log_client=log_client)\n"
   ]
  },
  {
   "cell_type": "code",
   "execution_count": 84,
   "metadata": {},
   "outputs": [
    {
     "name": "stdout",
     "output_type": "stream",
     "text": [
      "invoking #9 tasks\n"
     ]
    }
   ],
   "source": [
    "lambda_tasks.event_invoke_tasks(qry_key='qry')"
   ]
  },
  {
   "cell_type": "code",
   "execution_count": 85,
   "metadata": {},
   "outputs": [
    {
     "name": "stdout",
     "output_type": "stream",
     "text": [
      "\n",
      "Waiting until Tasks comeplete. \n",
      "Max wait time: 60 seconds. \n",
      "Check interval: 3 seconds\n",
      "******************\n",
      "\n",
      "iteration: 1. cummulative time: 0.0 seconds\n",
      "Getting cloudwatch events\n",
      "started tasks #9/9 tasks\n",
      "Not started tasks #0/9 tasks\n",
      "success tasks #9/9 tasks\n",
      "Not success tasks #0/9 tasks\n",
      "execution time: 10.81 seconds\n",
      "******************\n"
     ]
    }
   ],
   "source": [
    "lambda_tasks.wait_until_tasks_complete(total_wait_time_secs=60,interval_check_time_sec=3)"
   ]
  },
  {
   "cell_type": "code",
   "execution_count": 53,
   "metadata": {},
   "outputs": [
    {
     "data": {
      "text/plain": [
       "min     2024-12-02 22:47:34+00:00\n",
       "max     2024-12-02 22:47:36+00:00\n",
       "size                            9\n",
       "Name: LastModified, dtype: object"
      ]
     },
     "execution_count": 53,
     "metadata": {},
     "output_type": "execute_result"
    }
   ],
   "source": [
    "_files = [task['output_path'] for task in tasks.values()]\n",
    "(\n",
    "    get_s3_files_info(_files)\n",
    "    ['LastModified'].agg(['min','max','size'])\n",
    ")"
   ]
  },
  {
   "cell_type": "code",
   "execution_count": 84,
   "metadata": {},
   "outputs": [
    {
     "data": {
      "text/plain": [
       "┌─────────┐\n",
       "│ Success │\n",
       "│ boolean │\n",
       "├─────────┤\n",
       "│ true    │\n",
       "└─────────┘"
      ]
     },
     "execution_count": 84,
     "metadata": {},
     "output_type": "execute_result"
    }
   ],
   "source": [
    "# if \"~/.aws/credentials\" file is setup, duckdb can use the credentials to setup AWS keys\n",
    "_qry = f\"\"\"\n",
    "INSTALL AWS; LOAD AWS;\n",
    "CREATE SECRET secret2 (TYPE S3, PROVIDER CREDENTIAL_CHAIN);\n",
    "\"\"\"\n",
    "con.sql(_qry)"
   ]
  },
  {
   "cell_type": "code",
   "execution_count": 96,
   "metadata": {},
   "outputs": [
    {
     "data": {
      "text/plain": [
       "┌─────────────┬─────────────┬─────────┬─────────┬─────────┬─────────┐\n",
       "│ column_name │ column_type │  null   │   key   │ default │  extra  │\n",
       "│   varchar   │   varchar   │ varchar │ varchar │ varchar │ varchar │\n",
       "├─────────────┼─────────────┼─────────┼─────────┼─────────┼─────────┤\n",
       "│ pickup_date │ DATE        │ YES     │ NULL    │ NULL    │ NULL    │\n",
       "│ tot_amt     │ INTEGER     │ YES     │ NULL    │ NULL    │ NULL    │\n",
       "│ tot_dist    │ INTEGER     │ YES     │ NULL    │ NULL    │ NULL    │\n",
       "│ avg_fare    │ DOUBLE      │ YES     │ NULL    │ NULL    │ NULL    │\n",
       "│ counts      │ BIGINT      │ YES     │ NULL    │ NULL    │ NULL    │\n",
       "│ filename    │ VARCHAR     │ YES     │ NULL    │ NULL    │ NULL    │\n",
       "└─────────────┴─────────────┴─────────┴─────────┴─────────┴─────────┘"
      ]
     },
     "execution_count": 96,
     "metadata": {},
     "output_type": "execute_result"
    }
   ],
   "source": [
    "_outfiles = [_['output_path'] for _ in tasks.values()]\n",
    "_read_qry = ddb_read_parquet(_outfiles)\n",
    "ddb_describe(_read_qry)"
   ]
  },
  {
   "cell_type": "code",
   "execution_count": 97,
   "metadata": {},
   "outputs": [],
   "source": [
    "def get_monthly_summary(files):\n",
    "    \"\"\" \n",
    "    Function to get the monthly min/max avg_fare\n",
    "    \"\"\"\n",
    "    \n",
    "    load_files = ddb_read_parquet(files)\n",
    "    monthly_qry = f\"\"\" \n",
    "    with base AS (\n",
    "        {load_files}\n",
    "    )\n",
    "    select \n",
    "    pickup_date.strftime('%Y-%m') as pickup_month,\n",
    "   -- strftime(pickup_date,'%Y-%m') as pickup_month,\n",
    "    max(avg_fare) as max_avg_fare,\n",
    "    min(avg_fare) as min_avg_fare,\n",
    "    sum(counts) as total_counts\n",
    "    from base\n",
    "    group by all\n",
    "    order by pickup_month    \n",
    "    \"\"\"\n",
    "    \n",
    "    return monthly_qry"
   ]
  },
  {
   "cell_type": "code",
   "execution_count": 98,
   "metadata": {},
   "outputs": [
    {
     "data": {
      "text/plain": [
       "┌──────────────┬──────────────┬──────────────┬──────────────┐\n",
       "│ pickup_month │ max_avg_fare │ min_avg_fare │ total_counts │\n",
       "│   varchar    │    double    │    double    │    int128    │\n",
       "├──────────────┼──────────────┼──────────────┼──────────────┤\n",
       "│ 2002-12      │          8.0 │          0.0 │           10 │\n",
       "│ 2008-12      │         10.0 │         4.37 │            7 │\n",
       "│ 2009-01      │         17.0 │          5.0 │           15 │\n",
       "│ 2023-12      │         8.65 │         8.65 │           10 │\n",
       "│ 2024-01      │         8.88 │         4.33 │      2964617 │\n",
       "│ 2024-02      │         8.88 │         4.35 │      3007533 │\n",
       "│ 2024-03      │         9.08 │         3.55 │      3582611 │\n",
       "│ 2024-04      │         8.34 │         3.45 │      3514295 │\n",
       "│ 2024-05      │         15.0 │         2.82 │      3723843 │\n",
       "│ 2024-06      │         7.85 │         3.29 │      3539170 │\n",
       "│ 2024-07      │         8.88 │         3.17 │      3076876 │\n",
       "│ 2024-08      │         8.81 │         3.05 │      2979192 │\n",
       "│ 2024-09      │         16.0 │         3.25 │      3633013 │\n",
       "│ 2024-10      │         7.54 │         7.54 │           15 │\n",
       "│ 2026-06      │         7.25 │         7.25 │            2 │\n",
       "├──────────────┴──────────────┴──────────────┴──────────────┤\n",
       "│ 15 rows                                         4 columns │\n",
       "└───────────────────────────────────────────────────────────┘"
      ]
     },
     "metadata": {},
     "output_type": "display_data"
    },
    {
     "name": "stdout",
     "output_type": "stream",
     "text": [
      "execution time: 1.18 seconds\n"
     ]
    }
   ],
   "source": [
    "# get monthly min and max\n",
    "st_time = datetime.now()\n",
    "_qry = get_monthly_summary(_outfiles)\n",
    "\n",
    "display(ddb_sql(_qry))  \n",
    "_=get_elapsed_time(st_time)"
   ]
  },
  {
   "cell_type": "markdown",
   "metadata": {},
   "source": [
    "**Run for 60 months**"
   ]
  },
  {
   "cell_type": "code",
   "execution_count": 99,
   "metadata": {},
   "outputs": [
    {
     "name": "stdout",
     "output_type": "stream",
     "text": [
      "Generating 60 tasks\n"
     ]
    }
   ],
   "source": [
    "# months = get_months(\"2020-01\",\"2024-09\")\n",
    "months = get_months('2019-10','2024-09')\n",
    "tasks = generate_nytaxi_tasks(months)\n",
    "\n",
    "lambda_tasks = DuckdbLambda_Tasks(tasks=tasks,\n",
    "                      lambda_client=lambda_client,\n",
    "                      log_client=log_client)\n"
   ]
  },
  {
   "cell_type": "code",
   "execution_count": 91,
   "metadata": {},
   "outputs": [
    {
     "name": "stdout",
     "output_type": "stream",
     "text": [
      "invoking #60 tasks\n"
     ]
    }
   ],
   "source": [
    "lambda_tasks.event_invoke_tasks(qry_key='qry')"
   ]
  },
  {
   "cell_type": "code",
   "execution_count": 92,
   "metadata": {},
   "outputs": [
    {
     "name": "stdout",
     "output_type": "stream",
     "text": [
      "\n",
      "Waiting until Tasks comeplete. \n",
      "Max wait time: 60 seconds. \n",
      "Check interval: 3 seconds\n",
      "******************\n",
      "\n",
      "iteration: 1. cummulative time: 0.0 seconds\n",
      "Getting cloudwatch events\n",
      "started tasks #29/60 tasks\n",
      "Not started tasks #31/60 tasks\n",
      "success tasks #26/60 tasks\n",
      "Not success tasks #34/60 tasks\n",
      "\n",
      "iteration: 2. cummulative time: 3.67 seconds\n",
      "Getting cloudwatch events\n",
      "started tasks #41/60 tasks\n",
      "Not started tasks #19/60 tasks\n",
      "success tasks #38/60 tasks\n",
      "Not success tasks #22/60 tasks\n",
      "\n",
      "iteration: 3. cummulative time: 7.32 seconds\n",
      "Getting cloudwatch events\n",
      "started tasks #58/60 tasks\n",
      "Not started tasks #2/60 tasks\n",
      "success tasks #57/60 tasks\n",
      "Not success tasks #3/60 tasks\n",
      "\n",
      "iteration: 4. cummulative time: 11.58 seconds\n",
      "Getting cloudwatch events\n",
      "started tasks #60/60 tasks\n",
      "Not started tasks #0/60 tasks\n",
      "success tasks #60/60 tasks\n",
      "Not success tasks #0/60 tasks\n",
      "execution time: 12.31 seconds\n",
      "******************\n"
     ]
    }
   ],
   "source": [
    "lambda_tasks.wait_until_tasks_complete(total_wait_time_secs=60,interval_check_time_sec=3)"
   ]
  },
  {
   "cell_type": "code",
   "execution_count": 100,
   "metadata": {},
   "outputs": [
    {
     "data": {
      "text/plain": [
       "┌──────────────┬──────────────┬──────────────┬──────────────┐\n",
       "│ pickup_month │ max_avg_fare │ min_avg_fare │ total_counts │\n",
       "│   varchar    │    double    │    double    │    int128    │\n",
       "├──────────────┼──────────────┼──────────────┼──────────────┤\n",
       "│ 2001-01      │         7.25 │         3.63 │           11 │\n",
       "│ 2001-08      │         3.57 │         3.57 │            1 │\n",
       "│ 2002-10      │        10.66 │         5.25 │          439 │\n",
       "│ 2002-12      │         11.0 │          0.0 │           25 │\n",
       "│ 2003-01      │         8.33 │         3.14 │           29 │\n",
       "│ 2003-03      │         NULL │         NULL │            1 │\n",
       "│ 2004-04      │          6.0 │          6.0 │            1 │\n",
       "│ 2008-12      │         24.0 │          3.2 │          245 │\n",
       "│ 2009-01      │         17.0 │          2.0 │          430 │\n",
       "│ 2011-01      │         8.67 │         8.67 │            2 │\n",
       "│    ·         │           ·  │           ·  │            · │\n",
       "│    ·         │           ·  │           ·  │            · │\n",
       "│    ·         │           ·  │           ·  │            · │\n",
       "│ 2026-06      │         7.25 │         7.25 │            2 │\n",
       "│ 2026-12      │         2.89 │         2.89 │            1 │\n",
       "│ 2028-12      │         3.94 │         3.94 │            1 │\n",
       "│ 2029-05      │          6.5 │          6.5 │            1 │\n",
       "│ 2029-11      │         4.91 │         4.91 │            4 │\n",
       "│ 2058-12      │          8.5 │          8.5 │            3 │\n",
       "│ 2066-12      │         3.81 │         3.81 │            1 │\n",
       "│ 2070-08      │         NULL │         NULL │            1 │\n",
       "│ 2090-12      │         3.21 │         3.21 │            1 │\n",
       "│ 2098-09      │          5.2 │          5.2 │            1 │\n",
       "├──────────────┴──────────────┴──────────────┴──────────────┤\n",
       "│ 86 rows (20 shown)                              4 columns │\n",
       "└───────────────────────────────────────────────────────────┘"
      ]
     },
     "metadata": {},
     "output_type": "display_data"
    },
    {
     "name": "stdout",
     "output_type": "stream",
     "text": [
      "execution time: 5.34 seconds\n"
     ]
    }
   ],
   "source": [
    "# get monthly min and max\n",
    "_outfiles = [_['output_path'] for _ in tasks.values()]\n",
    "st_time = datetime.now()\n",
    "_qry = get_monthly_summary(_outfiles)\n",
    "\n",
    "display(ddb_sql(_qry))  \n",
    "_=get_elapsed_time(st_time)"
   ]
  },
  {
   "cell_type": "markdown",
   "metadata": {},
   "source": [
    "## Scaling using Coiled.io\n",
    "* notebooks: https://docs.coiled.io/user_guide/notebooks.html\n",
    "* serverless: https://docs.coiled.io/user_guide/functions.html\n",
    "* price: https://www.coiled.io/pricing\n",
    "* build vs buy: https://www.coiled.io/build-vs-buy"
   ]
  },
  {
   "cell_type": "code",
   "execution_count": 45,
   "metadata": {},
   "outputs": [
    {
     "data": {
      "text/plain": [
       "'1.66.1'"
      ]
     },
     "execution_count": 45,
     "metadata": {},
     "output_type": "execute_result"
    }
   ],
   "source": [
    "coiled.__version__"
   ]
  },
  {
   "cell_type": "code",
   "execution_count": null,
   "metadata": {},
   "outputs": [],
   "source": [
    "# baseline settings for coiled Function params\n",
    "ip_address= '170.85.72.183'\n",
    "tags ={'Application ID':'RSH'}\n",
    "coiled_function_params = dict(region='us-east-1',\n",
    "                 arm=True,\n",
    "                 idle_timeout='30 seconds',\n",
    "                 spot_policy='spot',\n",
    "                 memory='8 GB',\n",
    "                 threads_per_worker=1,\n",
    "                 name='pydata_demo',\n",
    "                 allow_ingress_from = ip_address,\n",
    "                 tags=tags)\n",
    "\n",
    "\n",
    "def setup_ddb_con():\n",
    "    \"\"\" \n",
    "    \"\"\"\n",
    "    con = duckdb.connect(\":memory:\")\n",
    "    _aws_creds = \"\"\" \n",
    "    INSTALL AWS; LOAD AWS;\n",
    "    CREATE SECRET secret2 (TYPE S3, PROVIDER CREDENTIAL_CHAIN);\n",
    "    \"\"\"\n",
    "    con.sql(_aws_creds)\n",
    "    return con\n",
    "    \n",
    "\n",
    "@coiled.function(**coiled_function_params)\n",
    "def run_coiled_tasks(input: dict):\n",
    "    \"\"\" \n",
    "    \"\"\"\n",
    "    \n",
    "    _st = datetime.now()\n",
    "    qry = input['qry']\n",
    "    name = input['month']\n",
    "    print(f\"Running for task:{name}\")\n",
    "    # initiate duckdb connection\n",
    "    con = setup_ddb_con()\n",
    "    val =con.sql(qry)\n",
    "    print(f\"completed Task: {name} in {(datetime.now() - _st).seconds:.2f} seconds\")\n",
    "    \n",
    "    return val\n",
    "    "
   ]
  },
  {
   "cell_type": "code",
   "execution_count": 47,
   "metadata": {},
   "outputs": [
    {
     "name": "stdout",
     "output_type": "stream",
     "text": [
      "Generating 9 tasks\n"
     ]
    }
   ],
   "source": [
    "months = get_months('2024-01','2024-09')\n",
    "output_base = \"s3://adarshnamala/pydata_demo/ny_taxi/coiled/\"\n",
    "tasks = generate_nytaxi_tasks(months,s3_output_base=output_base)"
   ]
  },
  {
   "cell_type": "code",
   "execution_count": null,
   "metadata": {},
   "outputs": [
    {
     "name": "stderr",
     "output_type": "stream",
     "text": [
      "[2024-12-03 08:34:06,680][INFO    ][coiled] Fetching latest package priorities...\n",
      "[2024-12-03 08:34:06,680][INFO    ][coiled] Resolving your local pydata_global Python environment...\n",
      "[2024-12-03 08:34:06,891][INFO    ][coiled.package_sync] Scanning 56 conda packages...\n",
      "[2024-12-03 08:34:06,893][INFO    ][coiled.package_sync] Scanning 127 python packages...\n",
      "[2024-12-03 08:34:07,087][INFO    ][coiled] Running pip check...\n",
      "[2024-12-03 08:34:07,434][INFO    ][coiled] Validating environment...\n",
      "[2024-12-03 08:34:09,173][INFO    ][coiled] Package - aiobotocore, Pip check had the following issues that need resolving: \n",
      "aiobotocore 2.15.2 has requirement botocore<1.35.37,>=1.35.16, but you have botocore 1.35.73.\n",
      "[2024-12-03 08:34:09,174][INFO    ][coiled] Requesting package sync build...\n",
      "[2024-12-03 08:34:10,002][INFO    ][coiled] Creating Cluster (name: pydata_demo, https://cloud.coiled.io/clusters/675289?account=adarshnamala ). This usually takes 1-2 minutes...\n",
      "2024-12-03 08:34:55,515 - distributed.deploy.adaptive - INFO - Adaptive scaling started: minimum=0 maximum=500\n",
      "2024-12-03 08:34:58,936 - distributed.deploy.adaptive - INFO - Adaptive scaling stopped: minimum=0 maximum=500. Reason: unknown\n",
      "2024-12-03 08:34:58,937 - distributed.deploy.adaptive - INFO - Adaptive scaling started: minimum=9 maximum=9\n"
     ]
    }
   ],
   "source": [
    "run_coiled_tasks.cluster.adapt(minimum=len(tasks),maximum=len(tasks))\n",
    "result = run_coiled_tasks.map(list(tasks.values()))"
   ]
  },
  {
   "cell_type": "markdown",
   "metadata": {},
   "source": [
    "## Coiled with Jupyter notbeooks"
   ]
  },
  {
   "cell_type": "code",
   "execution_count": 1,
   "metadata": {},
   "outputs": [],
   "source": [
    "import pandas as pd\n",
    "import numpy as np"
   ]
  },
  {
   "cell_type": "code",
   "execution_count": 1,
   "metadata": {},
   "outputs": [],
   "source": [
    "# np.random.rand(10)"
   ]
  }
 ],
 "metadata": {
  "kernelspec": {
   "display_name": "pydata_global",
   "language": "python",
   "name": "python3"
  },
  "language_info": {
   "codemirror_mode": {
    "name": "ipython",
    "version": 3
   },
   "file_extension": ".py",
   "mimetype": "text/x-python",
   "name": "python",
   "nbconvert_exporter": "python",
   "pygments_lexer": "ipython3",
   "version": "3.12.7"
  }
 },
 "nbformat": 4,
 "nbformat_minor": 4
}
